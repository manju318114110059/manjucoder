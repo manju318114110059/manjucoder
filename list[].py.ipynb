{
 "cells": [
  {
   "cell_type": "code",
   "execution_count": 2,
   "id": "2ebf28c1",
   "metadata": {},
   "outputs": [],
   "source": [
    "#list []: elements in sequence---mutable(elements inside list can be changed)---follows[]---different obj hold .\n",
    "home_shopping = ['honey','green tea',{\"clothes\": 1500, 'fruits':90},40]\n",
    "\n"
   ]
  },
  {
   "cell_type": "code",
   "execution_count": 3,
   "id": "384ad6ad",
   "metadata": {},
   "outputs": [
    {
     "data": {
      "text/plain": [
       "['honey', 'green tea', {'clothes': 1500, 'fruits': 90}, 40]"
      ]
     },
     "execution_count": 3,
     "metadata": {},
     "output_type": "execute_result"
    }
   ],
   "source": [
    "home_shopping"
   ]
  },
  {
   "cell_type": "code",
   "execution_count": 6,
   "id": "0d2925fe",
   "metadata": {},
   "outputs": [
    {
     "data": {
      "text/plain": [
       "2"
      ]
     },
     "execution_count": 6,
     "metadata": {},
     "output_type": "execute_result"
    }
   ],
   "source": [
    "#---list mutable so add element or change elements--\n",
    "#--add soup,dal (old values may deleted buecause it is muatable.)\n",
    "#--print length of list\n",
    "home_shopping = ['soup',{'dal':'90rs'}]\n",
    "len(home_shopping)"
   ]
  },
  {
   "cell_type": "code",
   "execution_count": 8,
   "id": "37d32b21",
   "metadata": {},
   "outputs": [
    {
     "ename": "IndexError",
     "evalue": "list index out of range",
     "output_type": "error",
     "traceback": [
      "\u001b[1;31m---------------------------------------------------------------------------\u001b[0m",
      "\u001b[1;31mIndexError\u001b[0m                                Traceback (most recent call last)",
      "\u001b[1;32m~\\AppData\\Local\\Temp\\ipykernel_17392\\763970024.py\u001b[0m in \u001b[0;36m<module>\u001b[1;34m\u001b[0m\n\u001b[0;32m      2\u001b[0m \u001b[1;31m# list1\u001b[0m\u001b[1;33m\u001b[0m\u001b[1;33m\u001b[0m\u001b[0m\n\u001b[0;32m      3\u001b[0m \u001b[0mhome_shopping\u001b[0m\u001b[1;33m\u001b[0m\u001b[1;33m\u001b[0m\u001b[0m\n\u001b[1;32m----> 4\u001b[1;33m \u001b[0mhome_shopping\u001b[0m\u001b[1;33m[\u001b[0m\u001b[1;36m2\u001b[0m\u001b[1;33m]\u001b[0m\u001b[1;33m\u001b[0m\u001b[1;33m\u001b[0m\u001b[0m\n\u001b[0m",
      "\u001b[1;31mIndexError\u001b[0m: list index out of range"
     ]
    }
   ],
   "source": [
    "#--indexing--slicing--\n",
    "# list1 \n",
    "home_shopping\n",
    "home_shopping[2]\n"
   ]
  },
  {
   "cell_type": "code",
   "execution_count": 18,
   "id": "7a2cf10d",
   "metadata": {},
   "outputs": [
    {
     "name": "stdout",
     "output_type": "stream",
     "text": [
      "{'dal': '90rs'}\n",
      "green tea\n",
      "['green tea', {'clothes': 1500, 'fruits': 90}, 40]\n",
      "['honey', 'green tea', {'clothes': 1500, 'fruits': 90}]\n"
     ]
    }
   ],
   "source": [
    "#list2\n",
    "mom_shopping = ['honey','green tea',{\"clothes\": 1500, 'fruits':90},40]\n",
    "print(home_shopping[1])\n",
    "print(mom_shopping[1])\n",
    "print(mom_shopping[1:]) # grab for 1....every thing pass it\n",
    "print(mom_shopping[:3])# grab from 0 to 3 doesn't print 3 value\n"
   ]
  },
  {
   "cell_type": "code",
   "execution_count": 22,
   "id": "362234a3",
   "metadata": {},
   "outputs": [
    {
     "name": "stdout",
     "output_type": "stream",
     "text": [
      "['honey', 'green tea', {'clothes': 1500, 'fruits': 90}, 40, 'soup', {'dal': '90rs'}]\n",
      "['honey', 'green tea', {'clothes': 1500, 'fruits': 90}, 40]\n",
      "['soup', {'dal': '90rs'}]\n"
     ]
    }
   ],
   "source": [
    "#concanate two list\n",
    "print(mom_shopping + home_shopping) # list 1+list 2\n",
    "print(mom_shopping)     #list1\n",
    "print(home_shopping)   #list2"
   ]
  },
  {
   "cell_type": "code",
   "execution_count": 23,
   "id": "66e40997",
   "metadata": {},
   "outputs": [
    {
     "data": {
      "text/plain": [
       "6"
      ]
     },
     "execution_count": 23,
     "metadata": {},
     "output_type": "execute_result"
    }
   ],
   "source": [
    "len(mom_shopping + home_shopping)"
   ]
  },
  {
   "cell_type": "code",
   "execution_count": 26,
   "id": "f5af8703",
   "metadata": {},
   "outputs": [],
   "source": [
    "final_shop = mom_shopping + home_shopping  #assing values to new list"
   ]
  },
  {
   "cell_type": "code",
   "execution_count": 25,
   "id": "412064d2",
   "metadata": {},
   "outputs": [
    {
     "data": {
      "text/plain": [
       "['honey',\n",
       " 'green tea',\n",
       " {'clothes': 1500, 'fruits': 90},\n",
       " 40,\n",
       " 'soup',\n",
       " {'dal': '90rs'}]"
      ]
     },
     "execution_count": 25,
     "metadata": {},
     "output_type": "execute_result"
    }
   ],
   "source": [
    "final_shop\n"
   ]
  },
  {
   "cell_type": "code",
   "execution_count": 27,
   "id": "95a1446e",
   "metadata": {},
   "outputs": [],
   "source": [
    "final_shop = final_shop + ['tomato',20.4,'potato',{'total':20000}]"
   ]
  },
  {
   "cell_type": "code",
   "execution_count": 28,
   "id": "d6d41951",
   "metadata": {},
   "outputs": [
    {
     "data": {
      "text/plain": [
       "['honey',\n",
       " 'green tea',\n",
       " {'clothes': 1500, 'fruits': 90},\n",
       " 40,\n",
       " 'soup',\n",
       " {'dal': '90rs'},\n",
       " 'tomato',\n",
       " 20.4,\n",
       " 'potato',\n",
       " {'total': 20000}]"
      ]
     },
     "execution_count": 28,
     "metadata": {},
     "output_type": "execute_result"
    }
   ],
   "source": [
    "final_shop"
   ]
  },
  {
   "cell_type": "code",
   "execution_count": 29,
   "id": "2104a708",
   "metadata": {},
   "outputs": [
    {
     "name": "stdout",
     "output_type": "stream",
     "text": [
      "['honey', 'green tea', {'clothes': 1500, 'fruits': 90}, 40, 'soup', {'dal': '90rs'}, 'tomato', 20.4, 'potato', {'total': 20000}, 'accessorries']\n"
     ]
    }
   ],
   "source": [
    "final_shop.append('accessorries')\n",
    "print(final_shop)"
   ]
  },
  {
   "cell_type": "code",
   "execution_count": 30,
   "id": "0e0ea301",
   "metadata": {},
   "outputs": [
    {
     "ename": "TypeError",
     "evalue": "list.append() takes exactly one argument (2 given)",
     "output_type": "error",
     "traceback": [
      "\u001b[1;31m---------------------------------------------------------------------------\u001b[0m",
      "\u001b[1;31mTypeError\u001b[0m                                 Traceback (most recent call last)",
      "\u001b[1;32m~\\AppData\\Local\\Temp\\ipykernel_17392\\1808416681.py\u001b[0m in \u001b[0;36m<module>\u001b[1;34m\u001b[0m\n\u001b[1;32m----> 1\u001b[1;33m \u001b[0mmom_shopping\u001b[0m\u001b[1;33m.\u001b[0m\u001b[0mappend\u001b[0m\u001b[1;33m(\u001b[0m\u001b[1;34m'snacks'\u001b[0m\u001b[1;33m,\u001b[0m\u001b[1;34m'blouse'\u001b[0m\u001b[1;33m)\u001b[0m\u001b[1;33m\u001b[0m\u001b[1;33m\u001b[0m\u001b[0m\n\u001b[0m\u001b[0;32m      2\u001b[0m \u001b[0mprint\u001b[0m\u001b[1;33m(\u001b[0m\u001b[0mmom_shopping\u001b[0m\u001b[1;33m)\u001b[0m\u001b[1;33m\u001b[0m\u001b[1;33m\u001b[0m\u001b[0m\n",
      "\u001b[1;31mTypeError\u001b[0m: list.append() takes exactly one argument (2 given)"
     ]
    }
   ],
   "source": [
    "mom_shopping.append('snacks','blouse')\n",
    "print(mom_shopping)"
   ]
  },
  {
   "cell_type": "code",
   "execution_count": 31,
   "id": "76efeb8b",
   "metadata": {},
   "outputs": [
    {
     "name": "stdout",
     "output_type": "stream",
     "text": [
      "['honey', 'green tea', {'clothes': 1500, 'fruits': 90}, 40, 'snacks']\n"
     ]
    }
   ],
   "source": [
    "mom_shopping.append('snacks')\n",
    "print(mom_shopping)"
   ]
  },
  {
   "cell_type": "code",
   "execution_count": 34,
   "id": "f79857e8",
   "metadata": {},
   "outputs": [
    {
     "name": "stdout",
     "output_type": "stream",
     "text": [
      "['honey', 'green tea', {'clothes': 1500, 'fruits': 90}, 40, 'soup', {'dal': '90rs'}, 'tomato', 20.4, 'potato', {'total': 20000}, 'accessorries']\n",
      "['honey', 'green tea', {'clothes': 1500, 'fruits': 90}, 40, 'snacks']\n",
      "['soup', {'dal': '90rs'}]\n"
     ]
    }
   ],
   "source": [
    "print(final_shop)\n",
    "print(mom_shopping)\n",
    "print(home_shopping)"
   ]
  },
  {
   "cell_type": "code",
   "execution_count": 35,
   "id": "613fb9eb",
   "metadata": {},
   "outputs": [
    {
     "ename": "TypeError",
     "evalue": "'<' not supported between instances of 'dict' and 'str'",
     "output_type": "error",
     "traceback": [
      "\u001b[1;31m---------------------------------------------------------------------------\u001b[0m",
      "\u001b[1;31mTypeError\u001b[0m                                 Traceback (most recent call last)",
      "\u001b[1;32m~\\AppData\\Local\\Temp\\ipykernel_17392\\3299716454.py\u001b[0m in \u001b[0;36m<module>\u001b[1;34m\u001b[0m\n\u001b[1;32m----> 1\u001b[1;33m \u001b[0mprint\u001b[0m\u001b[1;33m(\u001b[0m\u001b[0mfinal_shop\u001b[0m\u001b[1;33m.\u001b[0m\u001b[0msort\u001b[0m\u001b[1;33m(\u001b[0m\u001b[1;33m)\u001b[0m\u001b[1;33m)\u001b[0m\u001b[1;33m\u001b[0m\u001b[1;33m\u001b[0m\u001b[0m\n\u001b[0m",
      "\u001b[1;31mTypeError\u001b[0m: '<' not supported between instances of 'dict' and 'str'"
     ]
    }
   ],
   "source": [
    "print(final_shop.sort())"
   ]
  },
  {
   "cell_type": "code",
   "execution_count": 36,
   "id": "0b7d2228",
   "metadata": {},
   "outputs": [
    {
     "name": "stdout",
     "output_type": "stream",
     "text": [
      "None\n"
     ]
    }
   ],
   "source": [
    "print(final_shop.reverse())"
   ]
  },
  {
   "cell_type": "code",
   "execution_count": 37,
   "id": "f9de078a",
   "metadata": {},
   "outputs": [],
   "source": [
    "final_shop.reverse()"
   ]
  },
  {
   "cell_type": "code",
   "execution_count": 38,
   "id": "bfdf72e7",
   "metadata": {},
   "outputs": [
    {
     "data": {
      "text/plain": [
       "['honey',\n",
       " 'green tea',\n",
       " {'clothes': 1500, 'fruits': 90},\n",
       " 40,\n",
       " 'soup',\n",
       " {'dal': '90rs'},\n",
       " 'tomato',\n",
       " 20.4,\n",
       " 'potato',\n",
       " {'total': 20000},\n",
       " 'accessorries']"
      ]
     },
     "execution_count": 38,
     "metadata": {},
     "output_type": "execute_result"
    }
   ],
   "source": [
    "final_shop"
   ]
  },
  {
   "cell_type": "code",
   "execution_count": 46,
   "id": "e2f19913",
   "metadata": {},
   "outputs": [
    {
     "name": "stdout",
     "output_type": "stream",
     "text": [
      "[['soup', {'dal': '90rs'}], ['honey', 'green tea', {'clothes': 1500, 'fruits': 90}, 40, 'snacks']]\n",
      "['soup', {'dal': '90rs'}]\n",
      "soup\n",
      "green tea\n"
     ]
    }
   ],
   "source": [
    "mat = [home_shopping, mom_shopping]\n",
    "print(mat)\n",
    "print(mat[0]) #print whole 1st list\n",
    "print(mat[0][0])   #print 1st list lo 1st element\n",
    "print(mat[1][1])  # print 2list lo 2nd element"
   ]
  },
  {
   "cell_type": "code",
   "execution_count": null,
   "id": "02f91beb",
   "metadata": {},
   "outputs": [],
   "source": []
  }
 ],
 "metadata": {
  "kernelspec": {
   "display_name": "Python 3 (ipykernel)",
   "language": "python",
   "name": "python3"
  },
  "language_info": {
   "codemirror_mode": {
    "name": "ipython",
    "version": 3
   },
   "file_extension": ".py",
   "mimetype": "text/x-python",
   "name": "python",
   "nbconvert_exporter": "python",
   "pygments_lexer": "ipython3",
   "version": "3.9.13"
  }
 },
 "nbformat": 4,
 "nbformat_minor": 5
}
